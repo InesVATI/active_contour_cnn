{
 "cells": [
  {
   "cell_type": "code",
   "execution_count": 1,
   "id": "9cbdc3c8",
   "metadata": {
    "execution": {
     "iopub.execute_input": "2024-03-21T06:39:49.774347Z",
     "iopub.status.busy": "2024-03-21T06:39:49.774015Z",
     "iopub.status.idle": "2024-03-21T06:39:49.812086Z",
     "shell.execute_reply": "2024-03-21T06:39:49.811162Z"
    },
    "id": "ZR8MI4-YWz8_",
    "papermill": {
     "duration": 0.051291,
     "end_time": "2024-03-21T06:39:49.814105",
     "exception": false,
     "start_time": "2024-03-21T06:39:49.762814",
     "status": "completed"
    },
    "tags": []
   },
   "outputs": [],
   "source": [
    "%load_ext autoreload\n",
    "%autoreload 2"
   ]
  },
  {
   "cell_type": "markdown",
   "id": "005df78f",
   "metadata": {
    "id": "JRwf7raeX2S_",
    "papermill": {
     "duration": 0.009257,
     "end_time": "2024-03-21T06:39:49.833748",
     "exception": false,
     "start_time": "2024-03-21T06:39:49.824491",
     "status": "completed"
    },
    "tags": []
   },
   "source": [
    "### SetUp"
   ]
  },
  {
   "cell_type": "code",
   "execution_count": 2,
   "id": "2e19b09a",
   "metadata": {
    "execution": {
     "iopub.execute_input": "2024-03-21T06:39:49.853543Z",
     "iopub.status.busy": "2024-03-21T06:39:49.853276Z",
     "iopub.status.idle": "2024-03-21T06:39:51.709466Z",
     "shell.execute_reply": "2024-03-21T06:39:51.708210Z"
    },
    "id": "z1sDM3gtW9i1",
    "outputId": "bac3e84d-5b8f-44a3-9497-5e4e87dabf58",
    "papermill": {
     "duration": 1.868692,
     "end_time": "2024-03-21T06:39:51.711820",
     "exception": false,
     "start_time": "2024-03-21T06:39:49.843128",
     "status": "completed"
    },
    "tags": []
   },
   "outputs": [
    {
     "name": "stdout",
     "output_type": "stream",
     "text": [
      "Cloning into 'active_contour_cnn'...\r\n",
      "remote: Enumerating objects: 61, done.\u001b[K\r\n",
      "remote: Counting objects: 100% (61/61), done.\u001b[K\r\n",
      "remote: Compressing objects: 100% (53/53), done.\u001b[K\r\n",
      "remote: Total 61 (delta 5), reused 60 (delta 4), pack-reused 0\u001b[K\r\n",
      "Unpacking objects: 100% (61/61), 932.89 KiB | 4.28 MiB/s, done.\r\n",
      "/kaggle/working/active_contour_cnn/src\n"
     ]
    }
   ],
   "source": [
    "!git clone https://github.com/InesVATI/active_contour_cnn.git\n",
    "\n",
    "%cd active_contour_cnn/src"
   ]
  },
  {
   "cell_type": "code",
   "execution_count": 3,
   "id": "6a5c669a",
   "metadata": {
    "execution": {
     "iopub.execute_input": "2024-03-21T06:39:51.734850Z",
     "iopub.status.busy": "2024-03-21T06:39:51.734524Z",
     "iopub.status.idle": "2024-03-21T06:39:52.727399Z",
     "shell.execute_reply": "2024-03-21T06:39:52.726286Z"
    },
    "id": "3_M2j6OkXmmg",
    "outputId": "9523969d-9f83-4b14-af99-6864b1bd04a6",
    "papermill": {
     "duration": 1.006522,
     "end_time": "2024-03-21T06:39:52.729801",
     "exception": false,
     "start_time": "2024-03-21T06:39:51.723279",
     "status": "completed"
    },
    "tags": []
   },
   "outputs": [
    {
     "name": "stdout",
     "output_type": "stream",
     "text": [
      "\u001b[0m\u001b[01;34mMVA_geodesic_methods\u001b[0m/  datasets.py  dl_utils.py  experiments.ipynb  models.py\r\n"
     ]
    }
   ],
   "source": [
    "%ls"
   ]
  },
  {
   "cell_type": "code",
   "execution_count": 4,
   "id": "5740bfcc",
   "metadata": {
    "execution": {
     "iopub.execute_input": "2024-03-21T06:39:52.752330Z",
     "iopub.status.busy": "2024-03-21T06:39:52.751998Z",
     "iopub.status.idle": "2024-03-21T06:40:06.798705Z",
     "shell.execute_reply": "2024-03-21T06:40:06.797497Z"
    },
    "id": "XZZPg3wrZkAP",
    "outputId": "ea3e09e4-6faa-41b2-a6c6-0a7af5bdd6e3",
    "papermill": {
     "duration": 14.060369,
     "end_time": "2024-03-21T06:40:06.801283",
     "exception": false,
     "start_time": "2024-03-21T06:39:52.740914",
     "status": "completed"
    },
    "tags": []
   },
   "outputs": [
    {
     "name": "stdout",
     "output_type": "stream",
     "text": [
      "Requirement already satisfied: pydicom in /opt/conda/lib/python3.10/site-packages (2.4.4)\r\n"
     ]
    }
   ],
   "source": [
    "!pip install pydicom"
   ]
  },
  {
   "cell_type": "code",
   "execution_count": 5,
   "id": "ab0279ab",
   "metadata": {
    "execution": {
     "iopub.execute_input": "2024-03-21T06:40:06.825023Z",
     "iopub.status.busy": "2024-03-21T06:40:06.824693Z",
     "iopub.status.idle": "2024-03-21T06:40:11.793227Z",
     "shell.execute_reply": "2024-03-21T06:40:11.792152Z"
    },
    "id": "v0G2YO81Wz9B",
    "outputId": "ceae54c8-6257-47d3-94c5-0675a31ec810",
    "papermill": {
     "duration": 4.982928,
     "end_time": "2024-03-21T06:40:11.795351",
     "exception": false,
     "start_time": "2024-03-21T06:40:06.812423",
     "status": "completed"
    },
    "tags": []
   },
   "outputs": [
    {
     "name": "stdout",
     "output_type": "stream",
     "text": [
      "/kaggle/working/active_contour_cnn\n",
      "device : cuda\n"
     ]
    }
   ],
   "source": [
    "import pydicom as dicom\n",
    "import torch\n",
    "from torch.utils.data import DataLoader, random_split\n",
    "import os\n",
    "import matplotlib.pyplot as plt\n",
    "import numpy as np\n",
    "from PIL import Image\n",
    "from scipy import ndimage\n",
    "import time\n",
    "\n",
    "from models import LayerFCN8\n",
    "from datasets import save_multilayer_label_map, CHAOSDataset\n",
    "\n",
    "root_dir = os.path.dirname(os.getcwd())\n",
    "print(root_dir)\n",
    "device = torch.device(\"cuda\" if torch.cuda.is_available() else \"cpu\")\n",
    "print('device :', device)"
   ]
  },
  {
   "cell_type": "code",
   "execution_count": 6,
   "id": "43375294",
   "metadata": {
    "execution": {
     "iopub.execute_input": "2024-03-21T06:40:11.818841Z",
     "iopub.status.busy": "2024-03-21T06:40:11.818374Z",
     "iopub.status.idle": "2024-03-21T06:40:24.418632Z",
     "shell.execute_reply": "2024-03-21T06:40:24.417347Z"
    },
    "papermill": {
     "duration": 12.614538,
     "end_time": "2024-03-21T06:40:24.421160",
     "exception": false,
     "start_time": "2024-03-21T06:40:11.806622",
     "status": "completed"
    },
    "tags": []
   },
   "outputs": [
    {
     "name": "stdout",
     "output_type": "stream",
     "text": [
      "Collecting gdown\r\n",
      "  Downloading gdown-5.1.0-py3-none-any.whl.metadata (5.7 kB)\r\n",
      "Requirement already satisfied: beautifulsoup4 in /opt/conda/lib/python3.10/site-packages (from gdown) (4.12.2)\r\n",
      "Requirement already satisfied: filelock in /opt/conda/lib/python3.10/site-packages (from gdown) (3.13.1)\r\n",
      "Requirement already satisfied: requests[socks] in /opt/conda/lib/python3.10/site-packages (from gdown) (2.31.0)\r\n",
      "Requirement already satisfied: tqdm in /opt/conda/lib/python3.10/site-packages (from gdown) (4.66.1)\r\n",
      "Requirement already satisfied: soupsieve>1.2 in /opt/conda/lib/python3.10/site-packages (from beautifulsoup4->gdown) (2.5)\r\n",
      "Requirement already satisfied: charset-normalizer<4,>=2 in /opt/conda/lib/python3.10/site-packages (from requests[socks]->gdown) (3.3.2)\r\n",
      "Requirement already satisfied: idna<4,>=2.5 in /opt/conda/lib/python3.10/site-packages (from requests[socks]->gdown) (3.6)\r\n",
      "Requirement already satisfied: urllib3<3,>=1.21.1 in /opt/conda/lib/python3.10/site-packages (from requests[socks]->gdown) (1.26.18)\r\n",
      "Requirement already satisfied: certifi>=2017.4.17 in /opt/conda/lib/python3.10/site-packages (from requests[socks]->gdown) (2024.2.2)\r\n",
      "Requirement already satisfied: PySocks!=1.5.7,>=1.5.6 in /opt/conda/lib/python3.10/site-packages (from requests[socks]->gdown) (1.7.1)\r\n",
      "Downloading gdown-5.1.0-py3-none-any.whl (17 kB)\r\n",
      "Installing collected packages: gdown\r\n",
      "Successfully installed gdown-5.1.0\r\n"
     ]
    }
   ],
   "source": [
    "!pip install gdown"
   ]
  },
  {
   "cell_type": "code",
   "execution_count": 7,
   "id": "f35bdd95",
   "metadata": {
    "execution": {
     "iopub.execute_input": "2024-03-21T06:40:24.446486Z",
     "iopub.status.busy": "2024-03-21T06:40:24.446078Z",
     "iopub.status.idle": "2024-03-21T06:40:24.483928Z",
     "shell.execute_reply": "2024-03-21T06:40:24.483190Z"
    },
    "id": "_v4c2W2uWz9B",
    "outputId": "2634c59b-7b94-4c25-ecd2-d34854990253",
    "papermill": {
     "duration": 0.053034,
     "end_time": "2024-03-21T06:40:24.486009",
     "exception": false,
     "start_time": "2024-03-21T06:40:24.432975",
     "status": "completed"
    },
    "tags": []
   },
   "outputs": [],
   "source": [
    "# # Download data\n",
    "# data_folder = '{}/__data/'.format(root_dir)\n",
    "# if not os.path.exists(data_folder):\n",
    "#   !gdown --fuzzy 'https://drive.google.com/file/d/1ewBZ5uFr03wpllb8Wg1ltKTYdFwzeaod/view?usp=sharing' -O $data_folder"
   ]
  },
  {
   "cell_type": "code",
   "execution_count": 8,
   "id": "04731c03",
   "metadata": {
    "execution": {
     "iopub.execute_input": "2024-03-21T06:40:24.509808Z",
     "iopub.status.busy": "2024-03-21T06:40:24.509501Z",
     "iopub.status.idle": "2024-03-21T06:40:24.542437Z",
     "shell.execute_reply": "2024-03-21T06:40:24.541707Z"
    },
    "papermill": {
     "duration": 0.047281,
     "end_time": "2024-03-21T06:40:24.544436",
     "exception": false,
     "start_time": "2024-03-21T06:40:24.497155",
     "status": "completed"
    },
    "tags": []
   },
   "outputs": [],
   "source": [
    "# os.listdir('/kaggle/input/chaos-ct/Train_Sets')"
   ]
  },
  {
   "cell_type": "code",
   "execution_count": 9,
   "id": "0cca64b2",
   "metadata": {
    "execution": {
     "iopub.execute_input": "2024-03-21T06:40:24.567928Z",
     "iopub.status.busy": "2024-03-21T06:40:24.567663Z",
     "iopub.status.idle": "2024-03-21T06:40:24.599256Z",
     "shell.execute_reply": "2024-03-21T06:40:24.598543Z"
    },
    "papermill": {
     "duration": 0.045667,
     "end_time": "2024-03-21T06:40:24.601281",
     "exception": false,
     "start_time": "2024-03-21T06:40:24.555614",
     "status": "completed"
    },
    "tags": []
   },
   "outputs": [],
   "source": [
    "# import glob\n",
    "\n",
    "# glob.glob('/kaggle/input/modelfcn8_e100/*/*/*/*.pth')\n",
    "# os.path.exists('/kaggle/input/modelfcn8_e100/pytorch/e100_w.2-1.5-.05/1/modelFCN8_e100.pth')"
   ]
  },
  {
   "cell_type": "code",
   "execution_count": 10,
   "id": "ccf4019f",
   "metadata": {
    "execution": {
     "iopub.execute_input": "2024-03-21T06:40:24.625136Z",
     "iopub.status.busy": "2024-03-21T06:40:24.624858Z",
     "iopub.status.idle": "2024-03-21T06:40:24.656177Z",
     "shell.execute_reply": "2024-03-21T06:40:24.655458Z"
    },
    "id": "CU0K67YoZDMI",
    "outputId": "5bb5db44-6bb0-4607-98ee-1aaa7e227449",
    "papermill": {
     "duration": 0.04565,
     "end_time": "2024-03-21T06:40:24.658026",
     "exception": false,
     "start_time": "2024-03-21T06:40:24.612376",
     "status": "completed"
    },
    "scrolled": true,
    "tags": []
   },
   "outputs": [],
   "source": [
    "# if os.path.exists(f'{root_dir}/__data/Train_Sets.zip'):\n",
    "#   file_path = f'{root_dir}/__data/Train_Sets.zip'\n",
    "#   !unzip $file_path -d $data_folder\n",
    "# else :\n",
    "#   print('Issue while downloading data')"
   ]
  },
  {
   "cell_type": "code",
   "execution_count": 11,
   "id": "699a0b87",
   "metadata": {
    "execution": {
     "iopub.execute_input": "2024-03-21T06:40:24.680929Z",
     "iopub.status.busy": "2024-03-21T06:40:24.680645Z",
     "iopub.status.idle": "2024-03-21T06:40:24.721055Z",
     "shell.execute_reply": "2024-03-21T06:40:24.720255Z"
    },
    "id": "Uhih5QTMWz9D",
    "papermill": {
     "duration": 0.053922,
     "end_time": "2024-03-21T06:40:24.722891",
     "exception": false,
     "start_time": "2024-03-21T06:40:24.668969",
     "status": "completed"
    },
    "scrolled": true,
    "tags": []
   },
   "outputs": [
    {
     "data": {
      "text/plain": [
       "True"
      ]
     },
     "execution_count": 11,
     "metadata": {},
     "output_type": "execute_result"
    }
   ],
   "source": [
    "# data_folder = os.path.join(root_dir, '__data', 'Train_Sets', 'CT')\n",
    "data_folder = os.path.join('/kaggle/input/chaos-ct/', 'Train_Sets', 'CT')\n",
    "\n",
    "os.path.exists(data_folder)"
   ]
  },
  {
   "cell_type": "markdown",
   "id": "b8339186",
   "metadata": {
    "id": "-fIRg3s2Wz9C",
    "papermill": {
     "duration": 0.010565,
     "end_time": "2024-03-21T06:40:24.744361",
     "exception": false,
     "start_time": "2024-03-21T06:40:24.733796",
     "status": "completed"
    },
    "tags": []
   },
   "source": [
    "## Visualize generated layer label map"
   ]
  },
  {
   "cell_type": "markdown",
   "id": "ed193d3b",
   "metadata": {
    "id": "HnMgQLoaWz9J",
    "papermill": {
     "duration": 0.010944,
     "end_time": "2024-03-21T06:40:24.766054",
     "exception": false,
     "start_time": "2024-03-21T06:40:24.755110",
     "status": "completed"
    },
    "tags": []
   },
   "source": [
    "## Train FCN"
   ]
  },
  {
   "cell_type": "code",
   "execution_count": 12,
   "id": "dc7df1f1",
   "metadata": {
    "execution": {
     "iopub.execute_input": "2024-03-21T06:40:24.788591Z",
     "iopub.status.busy": "2024-03-21T06:40:24.788315Z",
     "iopub.status.idle": "2024-03-21T06:40:24.819691Z",
     "shell.execute_reply": "2024-03-21T06:40:24.818841Z"
    },
    "id": "3LJiXLyzdKAt",
    "outputId": "23e01bce-1438-43a4-8c78-ac5f0fa44226",
    "papermill": {
     "duration": 0.044749,
     "end_time": "2024-03-21T06:40:24.821605",
     "exception": false,
     "start_time": "2024-03-21T06:40:24.776856",
     "status": "completed"
    },
    "tags": []
   },
   "outputs": [],
   "source": [
    "# download model pretrained weights file\n",
    "result_folder = f'{root_dir}/__results/'\n",
    "if not os.path.exists(result_folder):\n",
    "    os.makedirs(result_folder)\n",
    "# !gdown --fuzzy 'https://drive.google.com/file/d/1T2v4kdTY9l2drUooRGendYWoEgRvBeL6/view?usp=sharing' -O $result_folder"
   ]
  },
  {
   "cell_type": "code",
   "execution_count": 13,
   "id": "3381c6b0",
   "metadata": {
    "execution": {
     "iopub.execute_input": "2024-03-21T06:40:24.844490Z",
     "iopub.status.busy": "2024-03-21T06:40:24.844219Z",
     "iopub.status.idle": "2024-03-21T06:40:26.552883Z",
     "shell.execute_reply": "2024-03-21T06:40:26.551869Z"
    },
    "id": "zVMF8vgDWz9J",
    "outputId": "2c3bc694-328a-4b79-a720-55a0d194dd47",
    "papermill": {
     "duration": 1.722623,
     "end_time": "2024-03-21T06:40:26.555222",
     "exception": false,
     "start_time": "2024-03-21T06:40:24.832599",
     "status": "completed"
    },
    "tags": []
   },
   "outputs": [
    {
     "name": "stdout",
     "output_type": "stream",
     "text": [
      "Nb train data : 2005\n",
      "Nb val data : 61\n",
      "\n"
     ]
    }
   ],
   "source": [
    "dataset = CHAOSDataset(data_folder)\n",
    "train_dataset, val_dataset = random_split(dataset, [0.97, 0.03])\n",
    "\n",
    "print(f'Nb train data : {len(train_dataset)}\\n'\n",
    "      f'Nb val data : {len(val_dataset)}\\n'\n",
    "     )\n"
   ]
  },
  {
   "cell_type": "code",
   "execution_count": 14,
   "id": "72cf683c",
   "metadata": {
    "execution": {
     "iopub.execute_input": "2024-03-21T06:40:26.578949Z",
     "iopub.status.busy": "2024-03-21T06:40:26.578633Z",
     "iopub.status.idle": "2024-03-21T06:40:26.614253Z",
     "shell.execute_reply": "2024-03-21T06:40:26.613348Z"
    },
    "id": "Y5Mj8O9JWz9J",
    "papermill": {
     "duration": 0.04979,
     "end_time": "2024-03-21T06:40:26.616295",
     "exception": false,
     "start_time": "2024-03-21T06:40:26.566505",
     "status": "completed"
    },
    "tags": []
   },
   "outputs": [],
   "source": [
    "class EarlyStopping:\n",
    "    def __init__(self, patience:int=5, min_delta:float = 1e-3):\n",
    "        self.patience = patience\n",
    "        self.min_delta = min_delta\n",
    "        self.prev_loss = None\n",
    "        self.counter = 0\n",
    "\n",
    "    def __call__(self, val_loss : float):\n",
    "\n",
    "        if self.prev_loss is None:\n",
    "            self.prev_loss = val_loss\n",
    "            return False\n",
    "\n",
    "        if np.abs(self.prev_loss - val_loss) < self.min_delta:\n",
    "            self.counter += 1\n",
    "        else:\n",
    "            self.counter = 0\n",
    "\n",
    "        self.prev_loss = val_loss\n",
    "\n",
    "        if self.counter >= self.patience:\n",
    "            return True\n",
    "\n",
    "        return False\n"
   ]
  },
  {
   "cell_type": "code",
   "execution_count": 15,
   "id": "e1d8acf7",
   "metadata": {
    "execution": {
     "iopub.execute_input": "2024-03-21T06:40:26.639634Z",
     "iopub.status.busy": "2024-03-21T06:40:26.639367Z",
     "iopub.status.idle": "2024-03-21T06:40:26.681133Z",
     "shell.execute_reply": "2024-03-21T06:40:26.680415Z"
    },
    "id": "yAkT-Dr5Wz9J",
    "papermill": {
     "duration": 0.055733,
     "end_time": "2024-03-21T06:40:26.683110",
     "exception": false,
     "start_time": "2024-03-21T06:40:26.627377",
     "status": "completed"
    },
    "tags": []
   },
   "outputs": [],
   "source": [
    "def train(model : torch.nn.Module, optimizer : torch.optim,\n",
    "          train_dataloader : DataLoader, val_dataloader : DataLoader,\n",
    "          lr_scheduler : torch.optim.lr_scheduler = None,\n",
    "          early_stopper : EarlyStopping = None,\n",
    "          nepochs_max:int=100):\n",
    "    class_weight = torch.tensor([.5]+[1.5]*5+[.05]).to(device)\n",
    "    # with [.2]+[1.5]*5+[.05] we do not have black \n",
    "    criterion = torch.nn.CrossEntropyLoss(weight=class_weight)\n",
    "    train_loss, val_loss = [], []\n",
    "\n",
    "    for epoch in range(nepochs_max):\n",
    "        bs_train_loss = 0\n",
    "        bs_val_loss = 0\n",
    "        train_bs, val_bs = 0, 0\n",
    "        model.train()\n",
    "\n",
    "        for (inp, target) in train_dataloader:\n",
    "            inp = inp.to(device)\n",
    "            target = target.to(device)\n",
    "            optimizer.zero_grad()\n",
    "            output = model(inp)\n",
    "            loss = criterion(output, target)\n",
    "            loss.backward()\n",
    "            optimizer.step()\n",
    "\n",
    "            bs_train_loss += loss.item()\n",
    "            train_bs += 1\n",
    "\n",
    "        train_loss.append(bs_train_loss / train_bs)\n",
    "\n",
    "        with torch.no_grad():\n",
    "            model.eval()\n",
    "            for (inp, target) in val_dataloader:\n",
    "                inp = inp.to(device)\n",
    "                target = target.to(device)\n",
    "                output = model(inp)\n",
    "                loss = criterion(output, target)\n",
    "                bs_val_loss += loss.item()\n",
    "                val_bs += 1\n",
    "\n",
    "            val_loss.append(bs_val_loss / val_bs)\n",
    "        if (epoch+1) % 1 == 0:\n",
    "            print(f'Epoch {epoch} : train loss {train_loss[-1]:.3f}, val loss {val_loss[-1]:.3f}')\n",
    "\n",
    "        if lr_scheduler is not None:\n",
    "            lr_scheduler.step()\n",
    "\n",
    "        if early_stopper is not None:\n",
    "            print('stopper count', early_stopper.counter)\n",
    "            if early_stopper(val_loss[-1]):\n",
    "                print(f'Early stopping at epoch {epoch}')\n",
    "                break\n",
    "\n",
    "    return train_loss, val_loss\n",
    "\n",
    "def compute_test_loss(model, test_dataloader):\n",
    "    criterion = torch.nn.CrossEntropyLoss()\n",
    "    test_loss = 0\n",
    "    test_bs = 0\n",
    "    model.eval()\n",
    "    with torch.no_grad():\n",
    "        for (inp, target) in test_dataloader:\n",
    "            inp = inp.to(device)\n",
    "            target = target.to(device)\n",
    "            output = model(inp)\n",
    "            loss = criterion(output, target)\n",
    "            test_loss += loss.item()\n",
    "            test_bs += 1\n",
    "\n",
    "    return test_loss / test_bs\n",
    "\n",
    "def plot_learning_curves(train_loss, val_loss):\n",
    "    plt.plot(train_loss, label='train loss')\n",
    "    plt.plot(val_loss, label='val loss')\n",
    "    plt.xlabel('Epochs')\n",
    "    plt.legend()\n",
    "    plt.show()"
   ]
  },
  {
   "cell_type": "code",
   "execution_count": 16,
   "id": "7ca08070",
   "metadata": {
    "execution": {
     "iopub.execute_input": "2024-03-21T06:40:26.706381Z",
     "iopub.status.busy": "2024-03-21T06:40:26.706106Z",
     "iopub.status.idle": "2024-03-21T06:40:26.736485Z",
     "shell.execute_reply": "2024-03-21T06:40:26.735783Z"
    },
    "id": "DefcRIqTWz9K",
    "papermill": {
     "duration": 0.044107,
     "end_time": "2024-03-21T06:40:26.738312",
     "exception": false,
     "start_time": "2024-03-21T06:40:26.694205",
     "status": "completed"
    },
    "tags": []
   },
   "outputs": [],
   "source": [
    "# batch_size = 20 # 20\n",
    "# lr = 0.0005 #0.00005\n",
    "# momentum = 0.9\n",
    "# nepochs = 200 # 100\n",
    "\n",
    "# modelFCN = LayerFCN8(7, path_to_pretrained_folder=os.path.join(root_dir, '__results'))\n",
    "# modelFCN = modelFCN.to(device)\n",
    "\n",
    "# # freeze pretrained layers\n",
    "# for name, param in modelFCN.named_parameters():\n",
    "#     if 'score' in name:\n",
    "#         param.requires_grad = True\n",
    "#     else:\n",
    "#         param.requires_grad = False\n",
    "\n",
    "# train_loader = DataLoader(train_dataset, batch_size=batch_size, shuffle=True)\n",
    "# val_loader = DataLoader(val_dataset, batch_size=batch_size, shuffle=True)\n",
    "\n",
    "# optimizer = torch.optim.SGD(modelFCN.parameters(), lr=lr, momentum=momentum)\n",
    "# scheduler = torch.optim.lr_scheduler.CosineAnnealingLR(optimizer, T_max=nepochs)  #, eta_min=0.0000001\n",
    "\n",
    "# early_stopper = EarlyStopping(patience=5, min_delta=1e-4)"
   ]
  },
  {
   "cell_type": "code",
   "execution_count": 17,
   "id": "4b4c3d8f",
   "metadata": {
    "execution": {
     "iopub.execute_input": "2024-03-21T06:40:26.761252Z",
     "iopub.status.busy": "2024-03-21T06:40:26.760499Z",
     "iopub.status.idle": "2024-03-21T06:40:26.788987Z",
     "shell.execute_reply": "2024-03-21T06:40:26.788326Z"
    },
    "id": "k1BzN9ZKWz9K",
    "outputId": "654db666-ae67-4f90-b95a-a6639357b29d",
    "papermill": {
     "duration": 0.041927,
     "end_time": "2024-03-21T06:40:26.790945",
     "exception": false,
     "start_time": "2024-03-21T06:40:26.749018",
     "status": "completed"
    },
    "tags": []
   },
   "outputs": [],
   "source": [
    "# train_loss, val_loss = train(modelFCN, optimizer,\n",
    "#                              train_loader, val_loader,\n",
    "#                              nepochs_max=nepochs,\n",
    "#                              lr_scheduler=scheduler,\n",
    "#                              early_stopper=early_stopper)\n",
    "# plot_learning_curves(train_loss, val_loss)"
   ]
  },
  {
   "cell_type": "code",
   "execution_count": 18,
   "id": "d395c411",
   "metadata": {
    "execution": {
     "iopub.execute_input": "2024-03-21T06:40:26.814125Z",
     "iopub.status.busy": "2024-03-21T06:40:26.813465Z",
     "iopub.status.idle": "2024-03-21T06:40:26.842263Z",
     "shell.execute_reply": "2024-03-21T06:40:26.841578Z"
    },
    "id": "QHT8aGoci8WT",
    "papermill": {
     "duration": 0.042107,
     "end_time": "2024-03-21T06:40:26.844084",
     "exception": false,
     "start_time": "2024-03-21T06:40:26.801977",
     "status": "completed"
    },
    "scrolled": true,
    "tags": []
   },
   "outputs": [],
   "source": [
    "# torch.save(modelFCN.state_dict(), f'{result_folder}/modelFCN8.pth')"
   ]
  },
  {
   "cell_type": "code",
   "execution_count": 19,
   "id": "328fe90d",
   "metadata": {
    "execution": {
     "iopub.execute_input": "2024-03-21T06:40:26.867290Z",
     "iopub.status.busy": "2024-03-21T06:40:26.867006Z",
     "iopub.status.idle": "2024-03-21T06:40:26.896511Z",
     "shell.execute_reply": "2024-03-21T06:40:26.895851Z"
    },
    "id": "Ze6EtTNkorDB",
    "papermill": {
     "duration": 0.043233,
     "end_time": "2024-03-21T06:40:26.898341",
     "exception": false,
     "start_time": "2024-03-21T06:40:26.855108",
     "status": "completed"
    },
    "tags": []
   },
   "outputs": [],
   "source": [
    "# train_img, train_lab = next(iter(train_loader))\n",
    "# train_img = train_img[0].to(device)\n",
    "# train_lab = train_lab[0]\n",
    "# print('t1', train_img.shape)\n"
   ]
  },
  {
   "cell_type": "code",
   "execution_count": 20,
   "id": "a3f01822",
   "metadata": {
    "execution": {
     "iopub.execute_input": "2024-03-21T06:40:26.921613Z",
     "iopub.status.busy": "2024-03-21T06:40:26.921339Z",
     "iopub.status.idle": "2024-03-21T06:40:26.950220Z",
     "shell.execute_reply": "2024-03-21T06:40:26.949533Z"
    },
    "id": "VrifkFXIvgfw",
    "papermill": {
     "duration": 0.042459,
     "end_time": "2024-03-21T06:40:26.952191",
     "exception": false,
     "start_time": "2024-03-21T06:40:26.909732",
     "status": "completed"
    },
    "tags": []
   },
   "outputs": [],
   "source": [
    "# out = modelFCN(train_img.unsqueeze(0))\n",
    "\n",
    "# pred_label_map = torch.argmax(out, dim=1)\n",
    "# print(pred_label_map.shape)\n",
    "# print('pred values', pred_label_map.unique())"
   ]
  },
  {
   "cell_type": "code",
   "execution_count": 21,
   "id": "22dd25bf",
   "metadata": {
    "execution": {
     "iopub.execute_input": "2024-03-21T06:40:26.975094Z",
     "iopub.status.busy": "2024-03-21T06:40:26.974853Z",
     "iopub.status.idle": "2024-03-21T06:40:27.003928Z",
     "shell.execute_reply": "2024-03-21T06:40:27.003297Z"
    },
    "id": "s4LoSR7MvDB2",
    "papermill": {
     "duration": 0.042569,
     "end_time": "2024-03-21T06:40:27.005791",
     "exception": false,
     "start_time": "2024-03-21T06:40:26.963222",
     "status": "completed"
    },
    "tags": []
   },
   "outputs": [],
   "source": [
    "# plt.figure()\n",
    "# plt.subplot(1, 3, 1)\n",
    "# plt.imshow(train_img.permute(1, 2, 0).cpu())\n",
    "\n",
    "# plt.subplot(1, 3, 2)\n",
    "# plt.imshow(pred_label_map.squeeze().detach().cpu(), cmap='hot')\n",
    "# plt.title('Prediction')\n",
    "\n",
    "# plt.subplot(1, 3, 3)\n",
    "# plt.imshow(train_lab, cmap='hot')\n",
    "# plt.title('Target')\n",
    "\n",
    "\n",
    "# plt.show()"
   ]
  },
  {
   "cell_type": "code",
   "execution_count": 22,
   "id": "4dd15b4b",
   "metadata": {
    "execution": {
     "iopub.execute_input": "2024-03-21T06:40:27.028831Z",
     "iopub.status.busy": "2024-03-21T06:40:27.028095Z",
     "iopub.status.idle": "2024-03-21T06:40:33.137102Z",
     "shell.execute_reply": "2024-03-21T06:40:33.136102Z"
    },
    "papermill": {
     "duration": 6.12304,
     "end_time": "2024-03-21T06:40:33.139801",
     "exception": false,
     "start_time": "2024-03-21T06:40:27.016761",
     "status": "completed"
    },
    "tags": []
   },
   "outputs": [
    {
     "name": "stdout",
     "output_type": "stream",
     "text": [
      "LayerFCN8(\n",
      "  (conv1_1): Conv2d(3, 64, kernel_size=(3, 3), stride=(1, 1), padding=(100, 100))\n",
      "  (relu1_1): ReLU(inplace=True)\n",
      "  (conv1_2): Conv2d(64, 64, kernel_size=(3, 3), stride=(1, 1), padding=(1, 1))\n",
      "  (relu1_2): ReLU(inplace=True)\n",
      "  (pool1): MaxPool2d(kernel_size=2, stride=2, padding=0, dilation=1, ceil_mode=True)\n",
      "  (conv2_1): Conv2d(64, 128, kernel_size=(3, 3), stride=(1, 1), padding=(1, 1))\n",
      "  (relu2_1): ReLU(inplace=True)\n",
      "  (conv2_2): Conv2d(128, 128, kernel_size=(3, 3), stride=(1, 1), padding=(1, 1))\n",
      "  (relu2_2): ReLU(inplace=True)\n",
      "  (pool2): MaxPool2d(kernel_size=2, stride=2, padding=0, dilation=1, ceil_mode=True)\n",
      "  (conv3_1): Conv2d(128, 256, kernel_size=(3, 3), stride=(1, 1), padding=(1, 1))\n",
      "  (relu3_1): ReLU(inplace=True)\n",
      "  (conv3_2): Conv2d(256, 256, kernel_size=(3, 3), stride=(1, 1), padding=(1, 1))\n",
      "  (relu3_2): ReLU(inplace=True)\n",
      "  (conv3_3): Conv2d(256, 256, kernel_size=(3, 3), stride=(1, 1), padding=(1, 1))\n",
      "  (relu3_3): ReLU(inplace=True)\n",
      "  (pool3): MaxPool2d(kernel_size=2, stride=2, padding=0, dilation=1, ceil_mode=True)\n",
      "  (conv4_1): Conv2d(256, 512, kernel_size=(3, 3), stride=(1, 1), padding=(1, 1))\n",
      "  (relu4_1): ReLU(inplace=True)\n",
      "  (conv4_2): Conv2d(512, 512, kernel_size=(3, 3), stride=(1, 1), padding=(1, 1))\n",
      "  (relu4_2): ReLU(inplace=True)\n",
      "  (conv4_3): Conv2d(512, 512, kernel_size=(3, 3), stride=(1, 1), padding=(1, 1))\n",
      "  (relu4_3): ReLU(inplace=True)\n",
      "  (pool4): MaxPool2d(kernel_size=2, stride=2, padding=0, dilation=1, ceil_mode=True)\n",
      "  (conv5_1): Conv2d(512, 512, kernel_size=(3, 3), stride=(1, 1), padding=(1, 1))\n",
      "  (relu5_1): ReLU(inplace=True)\n",
      "  (conv5_2): Conv2d(512, 512, kernel_size=(3, 3), stride=(1, 1), padding=(1, 1))\n",
      "  (relu5_2): ReLU(inplace=True)\n",
      "  (conv5_3): Conv2d(512, 512, kernel_size=(3, 3), stride=(1, 1), padding=(1, 1))\n",
      "  (relu5_3): ReLU(inplace=True)\n",
      "  (pool5): MaxPool2d(kernel_size=2, stride=2, padding=0, dilation=1, ceil_mode=True)\n",
      "  (fc6): Conv2d(512, 4096, kernel_size=(7, 7), stride=(1, 1))\n",
      "  (relu6): ReLU(inplace=True)\n",
      "  (drop6): Dropout2d(p=0.5, inplace=False)\n",
      "  (fc7): Conv2d(4096, 4096, kernel_size=(1, 1), stride=(1, 1))\n",
      "  (relu7): ReLU(inplace=True)\n",
      "  (drop7): Dropout2d(p=0.5, inplace=False)\n",
      "  (score_fr): Conv2d(4096, 7, kernel_size=(1, 1), stride=(1, 1))\n",
      "  (score_pool3): Conv2d(256, 7, kernel_size=(1, 1), stride=(1, 1))\n",
      "  (score_pool4): Conv2d(512, 7, kernel_size=(1, 1), stride=(1, 1))\n",
      "  (upscore2): ConvTranspose2d(7, 7, kernel_size=(4, 4), stride=(2, 2), bias=False)\n",
      "  (upscore8): ConvTranspose2d(7, 7, kernel_size=(16, 16), stride=(8, 8), bias=False)\n",
      "  (upscore_pool4): ConvTranspose2d(7, 7, kernel_size=(4, 4), stride=(2, 2), bias=False)\n",
      ")\n"
     ]
    }
   ],
   "source": [
    "modelFCN = LayerFCN8()\n",
    "modelFCN.load_state_dict(torch.load('/kaggle/input/modelfcn8_e100/pytorch/e100_w.2-1.5-.05/1/modelFCN8_e100.pth'))\n",
    "print(modelFCN)"
   ]
  },
  {
   "cell_type": "code",
   "execution_count": 23,
   "id": "770aa691",
   "metadata": {
    "execution": {
     "iopub.execute_input": "2024-03-21T06:40:33.164172Z",
     "iopub.status.busy": "2024-03-21T06:40:33.163633Z",
     "iopub.status.idle": "2024-03-21T06:40:33.198650Z",
     "shell.execute_reply": "2024-03-21T06:40:33.197421Z"
    },
    "papermill": {
     "duration": 0.049184,
     "end_time": "2024-03-21T06:40:33.200646",
     "exception": false,
     "start_time": "2024-03-21T06:40:33.151462",
     "status": "completed"
    },
    "tags": []
   },
   "outputs": [
    {
     "name": "stdout",
     "output_type": "stream",
     "text": [
      "26\n",
      "26 fc6.weight\n",
      "27 fc6.bias\n",
      "28 fc7.weight\n",
      "29 fc7.bias\n",
      "30 score_fr.weight\n",
      "31 score_fr.bias\n",
      "32 score_pool3.weight\n",
      "33 score_pool3.bias\n",
      "34 score_pool4.weight\n",
      "35 score_pool4.bias\n",
      "36 upscore2.weight\n",
      "37 upscore8.weight\n",
      "38 upscore_pool4.weight\n"
     ]
    }
   ],
   "source": [
    "n_layers = len(list(modelFCN.parameters()))\n",
    "n = 9\n",
    "print(n_layers-13)\n",
    "for i, (name, param) in enumerate(modelFCN.named_parameters()):\n",
    "    if i > (n_layers - n - 4 - 1):\n",
    "        print(i, name)\n",
    "        param.requires_grad = True\n",
    "    else :\n",
    "        param.requires_grad = False\n",
    "    \n",
    "#     if 'score' in name:\n",
    "#         param.requires_grad = True"
   ]
  },
  {
   "cell_type": "code",
   "execution_count": 24,
   "id": "13306053",
   "metadata": {
    "execution": {
     "iopub.execute_input": "2024-03-21T06:40:33.224756Z",
     "iopub.status.busy": "2024-03-21T06:40:33.224110Z",
     "iopub.status.idle": "2024-03-21T17:56:08.027810Z",
     "shell.execute_reply": "2024-03-21T17:56:08.027037Z"
    },
    "id": "YKXwSTZvLy0l",
    "papermill": {
     "duration": 40534.817821,
     "end_time": "2024-03-21T17:56:08.029782",
     "exception": false,
     "start_time": "2024-03-21T06:40:33.211961",
     "status": "completed"
    },
    "tags": []
   },
   "outputs": [
    {
     "name": "stdout",
     "output_type": "stream",
     "text": [
      "Epoch 0 : train loss 1.509, val loss 1.460\n",
      "stopper count 0\n",
      "Epoch 1 : train loss 1.481, val loss 1.470\n",
      "stopper count 0\n",
      "Epoch 2 : train loss 1.466, val loss 1.438\n",
      "stopper count 0\n",
      "Epoch 3 : train loss 1.459, val loss 1.453\n",
      "stopper count 0\n",
      "Epoch 4 : train loss 1.442, val loss 1.391\n",
      "stopper count 0\n",
      "Epoch 5 : train loss 1.425, val loss 1.389\n",
      "stopper count 0\n",
      "Epoch 6 : train loss 1.408, val loss 1.376\n",
      "stopper count 0\n",
      "Epoch 7 : train loss 1.404, val loss 1.364\n",
      "stopper count 0\n",
      "Epoch 8 : train loss 1.389, val loss 1.378\n",
      "stopper count 0\n",
      "Epoch 9 : train loss 1.380, val loss 1.355\n",
      "stopper count 0\n",
      "Epoch 10 : train loss 1.365, val loss 1.352\n",
      "stopper count 0\n",
      "Epoch 11 : train loss 1.356, val loss 1.356\n",
      "stopper count 0\n",
      "Epoch 12 : train loss 1.357, val loss 1.328\n",
      "stopper count 0\n",
      "Epoch 13 : train loss 1.339, val loss 1.343\n",
      "stopper count 0\n",
      "Epoch 14 : train loss 1.339, val loss 1.293\n",
      "stopper count 0\n",
      "Epoch 15 : train loss 1.321, val loss 1.345\n",
      "stopper count 0\n",
      "Epoch 16 : train loss 1.320, val loss 1.323\n",
      "stopper count 0\n",
      "Epoch 17 : train loss 1.308, val loss 1.308\n",
      "stopper count 0\n",
      "Epoch 18 : train loss 1.304, val loss 1.344\n",
      "stopper count 0\n",
      "Epoch 19 : train loss 1.287, val loss 1.276\n",
      "stopper count 0\n",
      "Epoch 20 : train loss 1.281, val loss 1.323\n",
      "stopper count 0\n",
      "Epoch 21 : train loss 1.282, val loss 1.295\n",
      "stopper count 0\n",
      "Epoch 22 : train loss 1.276, val loss 1.307\n",
      "stopper count 0\n",
      "Epoch 23 : train loss 1.271, val loss 1.297\n",
      "stopper count 0\n",
      "Epoch 24 : train loss 1.264, val loss 1.256\n",
      "stopper count 0\n",
      "Epoch 25 : train loss 1.262, val loss 1.287\n",
      "stopper count 0\n",
      "Epoch 26 : train loss 1.258, val loss 1.344\n",
      "stopper count 0\n",
      "Epoch 27 : train loss 1.252, val loss 1.286\n",
      "stopper count 0\n",
      "Epoch 28 : train loss 1.251, val loss 1.254\n",
      "stopper count 0\n",
      "Epoch 29 : train loss 1.239, val loss 1.245\n",
      "stopper count 0\n",
      "Epoch 30 : train loss 1.238, val loss 1.266\n",
      "stopper count 0\n",
      "Epoch 31 : train loss 1.232, val loss 1.281\n",
      "stopper count 0\n",
      "Epoch 32 : train loss 1.230, val loss 1.286\n",
      "stopper count 0\n",
      "Epoch 33 : train loss 1.222, val loss 1.223\n",
      "stopper count 0\n",
      "Epoch 34 : train loss 1.222, val loss 1.235\n",
      "stopper count 0\n",
      "Epoch 35 : train loss 1.218, val loss 1.255\n",
      "stopper count 0\n",
      "Epoch 36 : train loss 1.216, val loss 1.260\n",
      "stopper count 0\n",
      "Epoch 37 : train loss 1.211, val loss 1.254\n",
      "stopper count 0\n",
      "Epoch 38 : train loss 1.207, val loss 1.226\n",
      "stopper count 0\n",
      "Epoch 39 : train loss 1.203, val loss 1.261\n",
      "stopper count 0\n",
      "Epoch 40 : train loss 1.204, val loss 1.224\n",
      "stopper count 0\n",
      "Epoch 41 : train loss 1.194, val loss 1.233\n",
      "stopper count 0\n",
      "Epoch 42 : train loss 1.195, val loss 1.203\n",
      "stopper count 0\n",
      "Epoch 43 : train loss 1.192, val loss 1.180\n",
      "stopper count 0\n",
      "Epoch 44 : train loss 1.191, val loss 1.203\n",
      "stopper count 0\n",
      "Epoch 45 : train loss 1.186, val loss 1.216\n",
      "stopper count 0\n",
      "Epoch 46 : train loss 1.182, val loss 1.256\n",
      "stopper count 0\n",
      "Epoch 47 : train loss 1.184, val loss 1.212\n",
      "stopper count 0\n",
      "Epoch 48 : train loss 1.175, val loss 1.214\n",
      "stopper count 0\n",
      "Epoch 49 : train loss 1.172, val loss 1.247\n",
      "stopper count 0\n",
      "Epoch 50 : train loss 1.174, val loss 1.182\n",
      "stopper count 0\n",
      "Epoch 51 : train loss 1.167, val loss 1.200\n",
      "stopper count 0\n",
      "Epoch 52 : train loss 1.169, val loss 1.197\n",
      "stopper count 0\n",
      "Epoch 53 : train loss 1.168, val loss 1.214\n",
      "stopper count 0\n",
      "Epoch 54 : train loss 1.160, val loss 1.203\n",
      "stopper count 0\n",
      "Epoch 55 : train loss 1.159, val loss 1.153\n",
      "stopper count 0\n",
      "Epoch 56 : train loss 1.156, val loss 1.178\n",
      "stopper count 0\n",
      "Epoch 57 : train loss 1.151, val loss 1.210\n",
      "stopper count 0\n",
      "Epoch 58 : train loss 1.148, val loss 1.178\n",
      "stopper count 0\n",
      "Epoch 59 : train loss 1.149, val loss 1.167\n",
      "stopper count 0\n",
      "Epoch 60 : train loss 1.143, val loss 1.171\n",
      "stopper count 0\n",
      "Epoch 61 : train loss 1.139, val loss 1.177\n",
      "stopper count 0\n",
      "Epoch 62 : train loss 1.140, val loss 1.176\n",
      "stopper count 0\n",
      "Epoch 63 : train loss 1.138, val loss 1.176\n",
      "stopper count 0\n",
      "Epoch 64 : train loss 1.133, val loss 1.185\n",
      "stopper count 1\n",
      "Epoch 65 : train loss 1.133, val loss 1.140\n",
      "stopper count 0\n",
      "Epoch 66 : train loss 1.128, val loss 1.138\n",
      "stopper count 0\n",
      "Epoch 67 : train loss 1.123, val loss 1.138\n",
      "stopper count 0\n",
      "Epoch 68 : train loss 1.125, val loss 1.112\n",
      "stopper count 0\n",
      "Epoch 69 : train loss 1.123, val loss 1.126\n",
      "stopper count 0\n",
      "Epoch 70 : train loss 1.118, val loss 1.130\n",
      "stopper count 0\n",
      "Epoch 71 : train loss 1.120, val loss 1.159\n",
      "stopper count 0\n",
      "Epoch 72 : train loss 1.114, val loss 1.140\n",
      "stopper count 0\n",
      "Epoch 73 : train loss 1.109, val loss 1.132\n",
      "stopper count 0\n",
      "Epoch 74 : train loss 1.109, val loss 1.121\n",
      "stopper count 0\n",
      "Epoch 75 : train loss 1.107, val loss 1.110\n",
      "stopper count 0\n",
      "Epoch 76 : train loss 1.109, val loss 1.143\n",
      "stopper count 0\n",
      "Epoch 77 : train loss 1.101, val loss 1.134\n",
      "stopper count 0\n",
      "Epoch 78 : train loss 1.098, val loss 1.094\n",
      "stopper count 0\n",
      "Epoch 79 : train loss 1.102, val loss 1.121\n",
      "stopper count 0\n",
      "Epoch 80 : train loss 1.096, val loss 1.104\n",
      "stopper count 0\n",
      "Epoch 81 : train loss 1.093, val loss 1.103\n",
      "stopper count 0\n",
      "Epoch 82 : train loss 1.091, val loss 1.183\n",
      "stopper count 0\n",
      "Epoch 83 : train loss 1.092, val loss 1.123\n",
      "stopper count 0\n",
      "Epoch 84 : train loss 1.086, val loss 1.113\n",
      "stopper count 0\n",
      "Epoch 85 : train loss 1.082, val loss 1.112\n",
      "stopper count 0\n",
      "Epoch 86 : train loss 1.082, val loss 1.102\n",
      "stopper count 0\n",
      "Epoch 87 : train loss 1.081, val loss 1.130\n",
      "stopper count 0\n",
      "Epoch 88 : train loss 1.077, val loss 1.083\n",
      "stopper count 0\n",
      "Epoch 89 : train loss 1.079, val loss 1.095\n",
      "stopper count 0\n",
      "Epoch 90 : train loss 1.072, val loss 1.099\n",
      "stopper count 0\n",
      "Epoch 91 : train loss 1.069, val loss 1.121\n",
      "stopper count 0\n",
      "Epoch 92 : train loss 1.072, val loss 1.064\n",
      "stopper count 0\n",
      "Epoch 93 : train loss 1.066, val loss 1.084\n",
      "stopper count 0\n",
      "Epoch 94 : train loss 1.070, val loss 1.097\n",
      "stopper count 0\n",
      "Epoch 95 : train loss 1.061, val loss 1.102\n",
      "stopper count 0\n",
      "Epoch 96 : train loss 1.061, val loss 1.088\n",
      "stopper count 0\n",
      "Epoch 97 : train loss 1.058, val loss 1.050\n",
      "stopper count 0\n",
      "Epoch 98 : train loss 1.055, val loss 1.079\n",
      "stopper count 0\n",
      "Epoch 99 : train loss 1.051, val loss 1.081\n",
      "stopper count 0\n",
      "Epoch 100 : train loss 1.052, val loss 1.078\n",
      "stopper count 0\n",
      "Epoch 101 : train loss 1.048, val loss 1.061\n",
      "stopper count 0\n",
      "Epoch 102 : train loss 1.049, val loss 1.054\n",
      "stopper count 0\n",
      "Epoch 103 : train loss 1.045, val loss 1.072\n",
      "stopper count 0\n",
      "Epoch 104 : train loss 1.044, val loss 1.069\n",
      "stopper count 0\n",
      "Epoch 105 : train loss 1.038, val loss 1.060\n",
      "stopper count 0\n",
      "Epoch 106 : train loss 1.043, val loss 1.080\n",
      "stopper count 0\n",
      "Epoch 107 : train loss 1.039, val loss 1.059\n",
      "stopper count 0\n",
      "Epoch 108 : train loss 1.036, val loss 1.070\n",
      "stopper count 0\n",
      "Epoch 109 : train loss 1.034, val loss 1.044\n",
      "stopper count 0\n",
      "Epoch 110 : train loss 1.030, val loss 1.065\n",
      "stopper count 0\n",
      "Epoch 111 : train loss 1.030, val loss 1.072\n",
      "stopper count 0\n",
      "Epoch 112 : train loss 1.028, val loss 1.119\n",
      "stopper count 0\n",
      "Epoch 113 : train loss 1.029, val loss 1.033\n",
      "stopper count 0\n",
      "Epoch 114 : train loss 1.026, val loss 1.089\n",
      "stopper count 0\n",
      "Epoch 115 : train loss 1.021, val loss 1.057\n",
      "stopper count 0\n",
      "Epoch 116 : train loss 1.021, val loss 1.035\n",
      "stopper count 0\n",
      "Epoch 117 : train loss 1.018, val loss 1.033\n",
      "stopper count 0\n",
      "Epoch 118 : train loss 1.019, val loss 1.060\n",
      "stopper count 0\n",
      "Epoch 119 : train loss 1.012, val loss 1.044\n",
      "stopper count 0\n",
      "Epoch 120 : train loss 1.013, val loss 1.071\n",
      "stopper count 0\n",
      "Epoch 121 : train loss 1.010, val loss 1.027\n",
      "stopper count 0\n",
      "Epoch 122 : train loss 1.009, val loss 1.067\n",
      "stopper count 0\n",
      "Epoch 123 : train loss 1.012, val loss 1.015\n",
      "stopper count 0\n",
      "Epoch 124 : train loss 1.012, val loss 1.024\n",
      "stopper count 0\n",
      "Epoch 125 : train loss 1.007, val loss 1.030\n",
      "stopper count 0\n",
      "Epoch 126 : train loss 1.006, val loss 1.010\n",
      "stopper count 0\n",
      "Epoch 127 : train loss 1.003, val loss 1.041\n",
      "stopper count 0\n",
      "Epoch 128 : train loss 0.999, val loss 1.013\n",
      "stopper count 0\n",
      "Epoch 129 : train loss 0.997, val loss 1.055\n",
      "stopper count 0\n",
      "Epoch 130 : train loss 0.999, val loss 1.046\n",
      "stopper count 0\n",
      "Epoch 131 : train loss 0.993, val loss 0.999\n",
      "stopper count 0\n",
      "Epoch 132 : train loss 0.995, val loss 1.022\n",
      "stopper count 0\n",
      "Epoch 133 : train loss 0.988, val loss 1.022\n",
      "stopper count 0\n",
      "Epoch 134 : train loss 0.990, val loss 1.017\n",
      "stopper count 1\n",
      "Epoch 135 : train loss 0.989, val loss 1.027\n",
      "stopper count 0\n",
      "Epoch 136 : train loss 0.991, val loss 1.031\n",
      "stopper count 0\n",
      "Epoch 137 : train loss 0.984, val loss 0.995\n",
      "stopper count 0\n",
      "Epoch 138 : train loss 0.982, val loss 1.017\n",
      "stopper count 0\n",
      "Epoch 139 : train loss 0.980, val loss 0.990\n",
      "stopper count 0\n",
      "Epoch 140 : train loss 0.984, val loss 1.016\n",
      "stopper count 0\n",
      "Epoch 141 : train loss 0.977, val loss 0.979\n",
      "stopper count 0\n",
      "Epoch 142 : train loss 0.980, val loss 0.995\n",
      "stopper count 0\n",
      "Epoch 143 : train loss 0.978, val loss 1.006\n",
      "stopper count 0\n",
      "Epoch 144 : train loss 0.975, val loss 1.004\n",
      "stopper count 0\n",
      "Epoch 145 : train loss 0.972, val loss 0.983\n",
      "stopper count 0\n",
      "Epoch 146 : train loss 0.974, val loss 1.017\n",
      "stopper count 0\n",
      "Epoch 147 : train loss 0.963, val loss 0.972\n",
      "stopper count 0\n",
      "Epoch 148 : train loss 0.965, val loss 1.003\n",
      "stopper count 0\n",
      "Epoch 149 : train loss 0.964, val loss 0.970\n",
      "stopper count 0\n",
      "Epoch 150 : train loss 0.965, val loss 1.006\n",
      "stopper count 0\n",
      "Epoch 151 : train loss 0.968, val loss 0.985\n",
      "stopper count 0\n",
      "Epoch 152 : train loss 0.960, val loss 1.005\n",
      "stopper count 0\n",
      "Epoch 153 : train loss 0.960, val loss 0.951\n",
      "stopper count 0\n",
      "Epoch 154 : train loss 0.964, val loss 0.968\n",
      "stopper count 0\n",
      "Epoch 155 : train loss 0.955, val loss 0.974\n",
      "stopper count 0\n",
      "Epoch 156 : train loss 0.954, val loss 0.981\n",
      "stopper count 0\n",
      "Epoch 157 : train loss 0.953, val loss 0.947\n",
      "stopper count 0\n",
      "Epoch 158 : train loss 0.953, val loss 1.010\n",
      "stopper count 0\n",
      "Epoch 159 : train loss 0.952, val loss 0.952\n",
      "stopper count 0\n",
      "Epoch 160 : train loss 0.952, val loss 0.980\n",
      "stopper count 0\n",
      "Epoch 161 : train loss 0.953, val loss 0.986\n",
      "stopper count 0\n",
      "Epoch 162 : train loss 0.947, val loss 0.987\n",
      "stopper count 0\n",
      "Epoch 163 : train loss 0.947, val loss 0.999\n",
      "stopper count 0\n",
      "Epoch 164 : train loss 0.947, val loss 0.958\n",
      "stopper count 0\n",
      "Epoch 165 : train loss 0.945, val loss 0.958\n",
      "stopper count 0\n",
      "Epoch 166 : train loss 0.946, val loss 1.033\n",
      "stopper count 0\n",
      "Epoch 167 : train loss 0.941, val loss 1.005\n",
      "stopper count 0\n",
      "Epoch 168 : train loss 0.937, val loss 0.977\n",
      "stopper count 0\n",
      "Epoch 169 : train loss 0.937, val loss 0.989\n",
      "stopper count 0\n",
      "Epoch 170 : train loss 0.936, val loss 0.930\n",
      "stopper count 0\n",
      "Epoch 171 : train loss 0.938, val loss 1.040\n",
      "stopper count 0\n",
      "Epoch 172 : train loss 0.935, val loss 0.967\n",
      "stopper count 0\n",
      "Epoch 173 : train loss 0.933, val loss 0.977\n",
      "stopper count 0\n",
      "Epoch 174 : train loss 0.931, val loss 0.948\n",
      "stopper count 0\n",
      "Epoch 175 : train loss 0.934, val loss 0.967\n",
      "stopper count 0\n",
      "Epoch 176 : train loss 0.929, val loss 0.950\n",
      "stopper count 0\n",
      "Epoch 177 : train loss 0.931, val loss 0.951\n",
      "stopper count 0\n",
      "Epoch 178 : train loss 0.929, val loss 0.923\n",
      "stopper count 0\n",
      "Epoch 179 : train loss 0.921, val loss 0.979\n",
      "stopper count 0\n",
      "Epoch 180 : train loss 0.928, val loss 1.080\n",
      "stopper count 0\n",
      "Epoch 181 : train loss 0.924, val loss 0.983\n",
      "stopper count 0\n",
      "Epoch 182 : train loss 0.923, val loss 0.933\n",
      "stopper count 0\n",
      "Epoch 183 : train loss 0.930, val loss 0.939\n",
      "stopper count 0\n",
      "Epoch 184 : train loss 0.920, val loss 0.946\n",
      "stopper count 0\n",
      "Epoch 185 : train loss 0.914, val loss 0.971\n",
      "stopper count 0\n",
      "Epoch 186 : train loss 0.919, val loss 0.976\n",
      "stopper count 0\n",
      "Epoch 187 : train loss 0.918, val loss 0.921\n",
      "stopper count 0\n",
      "Epoch 188 : train loss 0.916, val loss 0.956\n",
      "stopper count 0\n",
      "Epoch 189 : train loss 0.915, val loss 0.932\n",
      "stopper count 0\n",
      "Epoch 190 : train loss 0.910, val loss 0.934\n",
      "stopper count 0\n",
      "Epoch 191 : train loss 0.908, val loss 1.022\n",
      "stopper count 0\n",
      "Epoch 192 : train loss 0.909, val loss 0.935\n",
      "stopper count 0\n",
      "Epoch 193 : train loss 0.913, val loss 0.962\n",
      "stopper count 0\n",
      "Epoch 194 : train loss 0.907, val loss 0.934\n",
      "stopper count 0\n",
      "Epoch 195 : train loss 0.907, val loss 0.941\n",
      "stopper count 0\n",
      "Epoch 196 : train loss 0.903, val loss 0.915\n",
      "stopper count 0\n",
      "Epoch 197 : train loss 0.900, val loss 0.918\n",
      "stopper count 0\n",
      "Epoch 198 : train loss 0.900, val loss 0.930\n",
      "stopper count 0\n",
      "Epoch 199 : train loss 0.903, val loss 1.030\n",
      "stopper count 0\n"
     ]
    },
    {
     "data": {
      "image/png": "[encoded data removed]",
      "text/plain": [
       "<Figure size 640x480 with 1 Axes>"
      ]
     },
     "metadata": {},
     "output_type": "display_data"
    }
   ],
   "source": [
    "# Unfreeze parameters and retrain\n",
    "\n",
    "batch_size = 16\n",
    "train_loader = DataLoader(train_dataset, batch_size=batch_size, shuffle=True)\n",
    "val_loader = DataLoader(val_dataset, batch_size=batch_size, shuffle=True)\n",
    "\n",
    "lr = 1e-4\n",
    "nepochs = 200 # 100\n",
    "momentum = .9\n",
    "optimizer = torch.optim.SGD(modelFCN.parameters(), lr=lr, momentum=momentum)\n",
    "early_stopper = EarlyStopping(patience=5, min_delta=1e-4)\n",
    "\n",
    "modelFCN = modelFCN.to(device)\n",
    "train_loss, val_loss = train(modelFCN, optimizer,\n",
    "                             train_loader, val_loader,\n",
    "                             nepochs_max=nepochs,\n",
    "                             lr_scheduler=None,\n",
    "                             early_stopper=early_stopper)\n",
    "plot_learning_curves(train_loss, val_loss)\n"
   ]
  },
  {
   "cell_type": "code",
   "execution_count": 25,
   "id": "c0cdd7f5",
   "metadata": {
    "execution": {
     "iopub.execute_input": "2024-03-21T17:56:08.087403Z",
     "iopub.status.busy": "2024-03-21T17:56:08.086949Z",
     "iopub.status.idle": "2024-03-21T17:56:09.166138Z",
     "shell.execute_reply": "2024-03-21T17:56:09.165075Z"
    },
    "papermill": {
     "duration": 1.111065,
     "end_time": "2024-03-21T17:56:09.168655",
     "exception": false,
     "start_time": "2024-03-21T17:56:08.057590",
     "status": "completed"
    },
    "tags": []
   },
   "outputs": [],
   "source": [
    "torch.save(modelFCN.state_dict(), f'{result_folder}/modelFCN8_retrained.pth')"
   ]
  },
  {
   "cell_type": "code",
   "execution_count": 26,
   "id": "425844a8",
   "metadata": {
    "execution": {
     "iopub.execute_input": "2024-03-21T17:56:09.228343Z",
     "iopub.status.busy": "2024-03-21T17:56:09.227991Z",
     "iopub.status.idle": "2024-03-21T17:56:09.701015Z",
     "shell.execute_reply": "2024-03-21T17:56:09.700015Z"
    },
    "papermill": {
     "duration": 0.504258,
     "end_time": "2024-03-21T17:56:09.703134",
     "exception": false,
     "start_time": "2024-03-21T17:56:09.198876",
     "status": "completed"
    },
    "tags": []
   },
   "outputs": [
    {
     "name": "stdout",
     "output_type": "stream",
     "text": [
      "t1 torch.Size([3, 512, 512])\n",
      "torch.Size([1, 512, 512])\n",
      "pred values tensor([0, 1, 2, 3, 4, 5, 6], device='cuda:0')\n"
     ]
    }
   ],
   "source": [
    "train_img, train_lab = next(iter(train_loader))\n",
    "train_img = train_img[0].to(device)\n",
    "train_lab = train_lab[0]\n",
    "print('t1', train_img.shape)\n",
    "\n",
    "out = modelFCN(train_img.unsqueeze(0))\n",
    "\n",
    "pred_label_map = torch.argmax(out, dim=1)\n",
    "print(pred_label_map.shape)\n",
    "print('pred values', pred_label_map.unique())"
   ]
  },
  {
   "cell_type": "code",
   "execution_count": 27,
   "id": "72de0b0b",
   "metadata": {
    "execution": {
     "iopub.execute_input": "2024-03-21T17:56:09.762281Z",
     "iopub.status.busy": "2024-03-21T17:56:09.761938Z",
     "iopub.status.idle": "2024-03-21T17:56:10.449179Z",
     "shell.execute_reply": "2024-03-21T17:56:10.448216Z"
    },
    "papermill": {
     "duration": 0.71912,
     "end_time": "2024-03-21T17:56:10.451496",
     "exception": false,
     "start_time": "2024-03-21T17:56:09.732376",
     "status": "completed"
    },
    "tags": []
   },
   "outputs": [
    {
     "data": {
      "image/png": "[encoded data removed]",
      "text/plain": [
       "<Figure size 640x480 with 3 Axes>"
      ]
     },
     "metadata": {},
     "output_type": "display_data"
    }
   ],
   "source": [
    "plt.figure()\n",
    "plt.subplot(1, 3, 1)\n",
    "plt.imshow(train_img.permute(1, 2, 0).cpu())\n",
    "\n",
    "plt.subplot(1, 3, 2)\n",
    "plt.imshow(pred_label_map.squeeze().detach().cpu(), cmap='hot')\n",
    "plt.title('Prediction')\n",
    "\n",
    "plt.subplot(1, 3, 3)\n",
    "plt.imshow(train_lab, cmap='hot')\n",
    "plt.title('Target')\n",
    "\n",
    "\n",
    "plt.show()"
   ]
  },
  {
   "cell_type": "markdown",
   "id": "f5f68072",
   "metadata": {
    "id": "X4H97DDkY6Ms",
    "papermill": {
     "duration": 0.027577,
     "end_time": "2024-03-21T17:56:10.507753",
     "exception": false,
     "start_time": "2024-03-21T17:56:10.480176",
     "status": "completed"
    },
    "tags": []
   },
   "source": [
    "## ACM"
   ]
  },
  {
   "cell_type": "code",
   "execution_count": 28,
   "id": "1adbd636",
   "metadata": {
    "execution": {
     "iopub.execute_input": "2024-03-21T17:56:10.566439Z",
     "iopub.status.busy": "2024-03-21T17:56:10.566035Z",
     "iopub.status.idle": "2024-03-21T17:56:10.608291Z",
     "shell.execute_reply": "2024-03-21T17:56:10.607542Z"
    },
    "id": "fwJeA0fMl2Po",
    "papermill": {
     "duration": 0.073885,
     "end_time": "2024-03-21T17:56:10.610397",
     "exception": false,
     "start_time": "2024-03-21T17:56:10.536512",
     "status": "completed"
    },
    "tags": []
   },
   "outputs": [],
   "source": [
    "def get_predicted_labelmap(output : torch.tensor, nclass=7) -> np.ndarray:\n",
    "  \"\"\"\n",
    "  Convert model's output with value in {0, nclass-1} to value in {-n/2, ..., 0, ..., n/2}\n",
    "  corresponding to layer index\n",
    "  :param output: model's output of size (1, nclass, H, W)\n",
    "  \"\"\"\n",
    "  pred_label_map = torch.argmax(output, dim=1)\n",
    "  t = int((nclass-1)/2)\n",
    "  return (pred_label_map - t).detach().numpy()"
   ]
  },
  {
   "cell_type": "code",
   "execution_count": 29,
   "id": "f1c32b93",
   "metadata": {
    "execution": {
     "iopub.execute_input": "2024-03-21T17:56:10.670009Z",
     "iopub.status.busy": "2024-03-21T17:56:10.669458Z",
     "iopub.status.idle": "2024-03-21T17:56:10.709384Z",
     "shell.execute_reply": "2024-03-21T17:56:10.708694Z"
    },
    "id": "bUlOX06LY8jk",
    "papermill": {
     "duration": 0.071362,
     "end_time": "2024-03-21T17:56:10.711251",
     "exception": false,
     "start_time": "2024-03-21T17:56:10.639889",
     "status": "completed"
    },
    "tags": []
   },
   "outputs": [],
   "source": [
    "# !git clone https://github.com/TheoBertrand-Dauphine/MVA_NT_geodesic_methods"
   ]
  },
  {
   "cell_type": "code",
   "execution_count": 30,
   "id": "8eada6bf",
   "metadata": {
    "execution": {
     "iopub.execute_input": "2024-03-21T17:56:10.770785Z",
     "iopub.status.busy": "2024-03-21T17:56:10.770496Z",
     "iopub.status.idle": "2024-03-21T17:56:10.811995Z",
     "shell.execute_reply": "2024-03-21T17:56:10.811315Z"
    },
    "id": "9XfvS4QDg-T9",
    "papermill": {
     "duration": 0.073564,
     "end_time": "2024-03-21T17:56:10.813908",
     "exception": false,
     "start_time": "2024-03-21T17:56:10.740344",
     "status": "completed"
    },
    "tags": []
   },
   "outputs": [],
   "source": [
    "# !pip install scikit-fmm # for re-distancing"
   ]
  },
  {
   "cell_type": "code",
   "execution_count": 31,
   "id": "3c483708",
   "metadata": {
    "execution": {
     "iopub.execute_input": "2024-03-21T17:56:10.876546Z",
     "iopub.status.busy": "2024-03-21T17:56:10.876239Z",
     "iopub.status.idle": "2024-03-21T17:56:10.915986Z",
     "shell.execute_reply": "2024-03-21T17:56:10.915299Z"
    },
    "id": "KlooGyVYWz9B",
    "papermill": {
     "duration": 0.073523,
     "end_time": "2024-03-21T17:56:10.917821",
     "exception": false,
     "start_time": "2024-03-21T17:56:10.844298",
     "status": "completed"
    },
    "tags": []
   },
   "outputs": [],
   "source": [
    "# import MVA_NT_geodesic_methods.nt_toolbox.grad as toolgrad\n",
    "# import MVA_NT_geodesic_methods.nt_toolbox.div as tooldiv\n",
    "\n",
    "# from MVA_NT_geodesic_methods.nt_toolbox.general import toolgeneral\n",
    "# from MVA_NT_geodesic_methods.nt_toolbox.signal import toolsignal\n",
    "\n",
    "# from MVA_NT_geodesic_methods.nt_toolbox.perform_redistancing import perform_redistancing"
   ]
  },
  {
   "cell_type": "code",
   "execution_count": 32,
   "id": "a53af0b9",
   "metadata": {
    "execution": {
     "iopub.execute_input": "2024-03-21T17:56:10.977782Z",
     "iopub.status.busy": "2024-03-21T17:56:10.977204Z",
     "iopub.status.idle": "2024-03-21T17:56:11.016714Z",
     "shell.execute_reply": "2024-03-21T17:56:11.015778Z"
    },
    "id": "CmOhTkBnfzUB",
    "papermill": {
     "duration": 0.072285,
     "end_time": "2024-03-21T17:56:11.018670",
     "exception": false,
     "start_time": "2024-03-21T17:56:10.946385",
     "status": "completed"
    },
    "tags": []
   },
   "outputs": [],
   "source": [
    "# # Extract initial curve from FCN model output\n",
    "# # saved_modelFCN = LayerFCN8()\n",
    "# # saved_modelFCN.load_state_dict(torch.load(f'{result_folder}/modelFCN8.pth'))\n",
    "\n",
    "# patient_ids = os.listdir(data_folder)\n",
    "# print(patient_ids)\n",
    "# label_map_folder = f\"{data_folder}/{patient_ids[0]}/Layer_label_map/\"\n",
    "# label_map_files = os.listdir(label_map_folder)\n",
    "\n",
    "# label_map = f\"{label_map_folder}/{label_map_files[0]}\"\n",
    "\n",
    "# plt.imshow(label_map, cmap='hot')\n",
    "# plt.show()"
   ]
  },
  {
   "cell_type": "code",
   "execution_count": 33,
   "id": "529d88df",
   "metadata": {
    "execution": {
     "iopub.execute_input": "2024-03-21T17:56:11.076413Z",
     "iopub.status.busy": "2024-03-21T17:56:11.076115Z",
     "iopub.status.idle": "2024-03-21T17:56:11.114121Z",
     "shell.execute_reply": "2024-03-21T17:56:11.113364Z"
    },
    "papermill": {
     "duration": 0.069178,
     "end_time": "2024-03-21T17:56:11.116114",
     "exception": false,
     "start_time": "2024-03-21T17:56:11.046936",
     "status": "completed"
    },
    "tags": []
   },
   "outputs": [],
   "source": [
    "# curve = label_map.numpy()==0"
   ]
  }
 ],
 "metadata": {
  "accelerator": "GPU",
  "colab": {
   "collapsed_sections": [
    "-fIRg3s2Wz9C",
    "2NzRdCWhWz9H"
   ],
   "gpuType": "T4",
   "provenance": []
  },
  "kaggle": {
   "accelerator": "nvidiaTeslaT4",
   "dataSources": [
    {
     "datasetId": 4638061,
     "sourceId": 7897988,
     "sourceType": "datasetVersion"
    },
    {
     "isSourceIdPinned": true,
     "modelInstanceId": 15558,
     "sourceId": 18760,
     "sourceType": "modelInstanceVersion"
    }
   ],
   "dockerImageVersionId": 30665,
   "isGpuEnabled": true,
   "isInternetEnabled": true,
   "language": "python",
   "sourceType": "notebook"
  },
  "kernelspec": {
   "display_name": "Python 3",
   "language": "python",
   "name": "python3"
  },
  "language_info": {
   "codemirror_mode": {
    "name": "ipython",
    "version": 3
   },
   "file_extension": ".py",
   "mimetype": "text/x-python",
   "name": "python",
   "nbconvert_exporter": "python",
   "pygments_lexer": "ipython3",
   "version": "3.10.13"
  },
  "papermill": {
   "default_parameters": {},
   "duration": 40587.053058,
   "end_time": "2024-03-21T17:56:13.804298",
   "environment_variables": {},
   "exception": null,
   "input_path": "__notebook__.ipynb",
   "output_path": "__notebook__.ipynb",
   "parameters": {},
   "start_time": "2024-03-21T06:39:46.751240",
   "version": "2.5.0"
  }
 },
 "nbformat": 4,
 "nbformat_minor": 5
}
